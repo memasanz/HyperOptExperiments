{
 "cells": [
  {
   "cell_type": "markdown",
   "id": "769389b8",
   "metadata": {},
   "source": [
    "## HyperOpt Remote Training with Child Runs\n",
    "\n",
    "https://github.com/hyperopt/hyperopt-sklearn/blob/master/notebooks/Demo-Iris.ipynb"
   ]
  },
  {
   "cell_type": "code",
   "execution_count": 12,
   "id": "cb4f9561",
   "metadata": {},
   "outputs": [
    {
     "name": "stdout",
     "output_type": "stream",
     "text": [
      "Ready to use Azure ML 1.33.0 to work with mm-aml-dev\n"
     ]
    }
   ],
   "source": [
    "import azureml.core\n",
    "import pandas as pd\n",
    "from azureml.core import Workspace\n",
    "\n",
    "# Load the workspace from the saved config file\n",
    "ws = Workspace.from_config()\n",
    "print('Ready to use Azure ML {} to work with {}'.format(azureml.core.VERSION, ws.name))"
   ]
  },
  {
   "cell_type": "code",
   "execution_count": 13,
   "id": "5b4ec1ff",
   "metadata": {},
   "outputs": [
    {
     "name": "stdout",
     "output_type": "stream",
     "text": [
      "Requirement already satisfied: hyperopt in /anaconda/envs/azureml_py36/lib/python3.6/site-packages (0.2.5)\n",
      "Requirement already satisfied: scipy in /anaconda/envs/azureml_py36/lib/python3.6/site-packages (from hyperopt) (1.5.2)\n",
      "Requirement already satisfied: numpy in /anaconda/envs/azureml_py36/lib/python3.6/site-packages (from hyperopt) (1.18.5)\n",
      "Requirement already satisfied: networkx>=2.2 in /anaconda/envs/azureml_py36/lib/python3.6/site-packages (from hyperopt) (2.5.1)\n",
      "Requirement already satisfied: tqdm in /anaconda/envs/azureml_py36/lib/python3.6/site-packages (from hyperopt) (4.61.1)\n",
      "Requirement already satisfied: cloudpickle in /anaconda/envs/azureml_py36/lib/python3.6/site-packages (from hyperopt) (1.6.0)\n",
      "Requirement already satisfied: future in /anaconda/envs/azureml_py36/lib/python3.6/site-packages (from hyperopt) (0.18.2)\n",
      "Requirement already satisfied: six in /anaconda/envs/azureml_py36/lib/python3.6/site-packages (from hyperopt) (1.16.0)\n",
      "Requirement already satisfied: decorator<5,>=4.3 in /anaconda/envs/azureml_py36/lib/python3.6/site-packages (from networkx>=2.2->hyperopt) (4.4.2)\n",
      "Collecting git+https://github.com/hyperopt/hyperopt-sklearn.git\n",
      "  Cloning https://github.com/hyperopt/hyperopt-sklearn.git to /tmp/pip-req-build-ho8d_aav\n",
      "  Running command git clone -q https://github.com/hyperopt/hyperopt-sklearn.git /tmp/pip-req-build-ho8d_aav\n",
      "Requirement already satisfied (use --upgrade to upgrade): hpsklearn==0.0.3 from git+https://github.com/hyperopt/hyperopt-sklearn.git in /anaconda/envs/azureml_py36/lib/python3.6/site-packages\n",
      "Requirement already satisfied: hyperopt in /anaconda/envs/azureml_py36/lib/python3.6/site-packages (from hpsklearn==0.0.3) (0.2.5)\n",
      "Requirement already satisfied: nose in /anaconda/envs/azureml_py36/lib/python3.6/site-packages (from hpsklearn==0.0.3) (1.3.7)\n",
      "Requirement already satisfied: numpy in /anaconda/envs/azureml_py36/lib/python3.6/site-packages (from hpsklearn==0.0.3) (1.18.5)\n",
      "Requirement already satisfied: scikit-learn in /anaconda/envs/azureml_py36/lib/python3.6/site-packages (from hpsklearn==0.0.3) (0.24.2)\n",
      "Requirement already satisfied: scipy in /anaconda/envs/azureml_py36/lib/python3.6/site-packages (from hpsklearn==0.0.3) (1.5.2)\n",
      "Requirement already satisfied: six in /anaconda/envs/azureml_py36/lib/python3.6/site-packages (from hyperopt->hpsklearn==0.0.3) (1.16.0)\n",
      "Requirement already satisfied: future in /anaconda/envs/azureml_py36/lib/python3.6/site-packages (from hyperopt->hpsklearn==0.0.3) (0.18.2)\n",
      "Requirement already satisfied: tqdm in /anaconda/envs/azureml_py36/lib/python3.6/site-packages (from hyperopt->hpsklearn==0.0.3) (4.61.1)\n",
      "Requirement already satisfied: networkx>=2.2 in /anaconda/envs/azureml_py36/lib/python3.6/site-packages (from hyperopt->hpsklearn==0.0.3) (2.5.1)\n",
      "Requirement already satisfied: cloudpickle in /anaconda/envs/azureml_py36/lib/python3.6/site-packages (from hyperopt->hpsklearn==0.0.3) (1.6.0)\n",
      "Requirement already satisfied: threadpoolctl>=2.0.0 in /anaconda/envs/azureml_py36/lib/python3.6/site-packages (from scikit-learn->hpsklearn==0.0.3) (2.1.0)\n",
      "Requirement already satisfied: joblib>=0.11 in /anaconda/envs/azureml_py36/lib/python3.6/site-packages (from scikit-learn->hpsklearn==0.0.3) (0.14.1)\n",
      "Requirement already satisfied: decorator<5,>=4.3 in /anaconda/envs/azureml_py36/lib/python3.6/site-packages (from networkx>=2.2->hyperopt->hpsklearn==0.0.3) (4.4.2)\n",
      "Building wheels for collected packages: hpsklearn\n",
      "  Building wheel for hpsklearn (setup.py) ... \u001b[?25ldone\n",
      "\u001b[?25h  Created wheel for hpsklearn: filename=hpsklearn-0.0.3-py3-none-any.whl size=26994 sha256=7d09652ac9c85c52c3cd503a871e0bd4b685862e249d9cd341b441322a9187af\n",
      "  Stored in directory: /tmp/pip-ephem-wheel-cache-7ugxped6/wheels/35/2d/91/ed44b48b092472e2b1abf6fc84dd8dca06c2202a4127623082\n",
      "Successfully built hpsklearn\n"
     ]
    }
   ],
   "source": [
    "!pip install hyperopt\n",
    "!pip install git+https://github.com/hyperopt/hyperopt-sklearn.git"
   ]
  },
  {
   "cell_type": "code",
   "execution_count": 14,
   "id": "ee81b7e1",
   "metadata": {},
   "outputs": [
    {
     "name": "stdout",
     "output_type": "stream",
     "text": [
      "100%|██████████| 100/100 [00:00<00:00, 162.34trial/s, best loss: 0.0001511348809633245]\n",
      "{'a': 1, 'c2': -0.012293692730962674}\n",
      "('case 2', -0.012293692730962674)\n"
     ]
    }
   ],
   "source": [
    "# define an objective function\n",
    "import hyperopt\n",
    "\n",
    "def objective(args):\n",
    "    case, val = args\n",
    "    if case == 'case 1':\n",
    "        return val\n",
    "    else:\n",
    "        return val ** 2\n",
    "\n",
    "# define a search space\n",
    "from hyperopt import hp\n",
    "space = hp.choice('a',\n",
    "    [\n",
    "        ('case 1', 1 + hp.lognormal('c1', 0, 1)),\n",
    "        ('case 2', hp.uniform('c2', -10, 10))\n",
    "    ])\n",
    "\n",
    "# minimize the objective over the space\n",
    "from hyperopt import fmin, tpe\n",
    "best = fmin(objective, space, algo=tpe.suggest, max_evals=100)\n",
    "\n",
    "print (best)\n",
    "# -> {'a': 1, 'c2': 0.01420615366247227}\n",
    "print (hyperopt.space_eval(space, best))\n",
    "# -> ('case 2', 0.01420615366247227}"
   ]
  },
  {
   "cell_type": "code",
   "execution_count": 15,
   "id": "3a644f97",
   "metadata": {},
   "outputs": [
    {
     "name": "stdout",
     "output_type": "stream",
     "text": [
      "100%|██████████| 100/100 [00:00<00:00, 315.48trial/s, best loss: 0.00016027278774741188]\n",
      "{'x': -0.012659888931085134}\n"
     ]
    }
   ],
   "source": [
    "from hyperopt import fmin, tpe, hp\n",
    "best = fmin(fn=lambda x: x ** 2,\n",
    "    space=hp.uniform('x', -10, 10),\n",
    "    algo=tpe.suggest,\n",
    "    max_evals=100)\n",
    "print (best)"
   ]
  },
  {
   "cell_type": "code",
   "execution_count": 16,
   "id": "f605b6ca",
   "metadata": {},
   "outputs": [
    {
     "name": "stdout",
     "output_type": "stream",
     "text": [
      "100%|██████████| 100/100 [00:00<00:00, 327.67trial/s, best loss: 4.564849731573872e-06]\n",
      "{'x': 0.002136550896087868}\n"
     ]
    }
   ],
   "source": [
    "import pickle\n",
    "import time\n",
    "from hyperopt import fmin, tpe, hp, STATUS_OK\n",
    "\n",
    "def objective(x):\n",
    "    return {'loss': x ** 2, 'status': STATUS_OK }\n",
    "\n",
    "best = fmin(objective,\n",
    "    space=hp.uniform('x', -10, 10),\n",
    "    algo=tpe.suggest,\n",
    "    max_evals=100)\n",
    "\n",
    "print (best)"
   ]
  },
  {
   "cell_type": "code",
   "execution_count": 17,
   "id": "53ba108d",
   "metadata": {},
   "outputs": [
    {
     "name": "stdout",
     "output_type": "stream",
     "text": [
      "100%|██████████| 100/100 [00:00<00:00, 322.49trial/s, best loss: 0.00020932953825325023]\n",
      "{'x': -0.014468225124501286}\n"
     ]
    }
   ],
   "source": [
    "import pickle\n",
    "import time\n",
    "from hyperopt import fmin, tpe, hp, STATUS_OK, Trials\n",
    "\n",
    "def objective(x):\n",
    "    return {\n",
    "        'loss': x ** 2,\n",
    "        'status': STATUS_OK,\n",
    "        # -- store other results like this\n",
    "        'eval_time': time.time(),\n",
    "        'other_stuff': {'type': None, 'value': [0, 1, 2]},\n",
    "        # -- attachments are handled differently\n",
    "        'attachments':\n",
    "            {'time_module': pickle.dumps(time.time)}\n",
    "        }\n",
    "trials = Trials()\n",
    "best = fmin(objective,\n",
    "    space=hp.uniform('x', -10, 10),\n",
    "    algo=tpe.suggest,\n",
    "    max_evals=100,\n",
    "    trials=trials)\n",
    "\n",
    "print (best)"
   ]
  },
  {
   "cell_type": "markdown",
   "id": "7d557e57",
   "metadata": {},
   "source": [
    "## HyperOpt"
   ]
  },
  {
   "cell_type": "code",
   "execution_count": null,
   "id": "4eb001a5",
   "metadata": {},
   "outputs": [],
   "source": [
    "#https://github.com/hyperopt/hyperopt-sklearn/blob/master/notebooks/Demo-Iris.ipynb"
   ]
  },
  {
   "cell_type": "code",
   "execution_count": 26,
   "id": "e4b1e5ae",
   "metadata": {},
   "outputs": [
    {
     "name": "stdout",
     "output_type": "stream",
     "text": [
      "Best preprocessing pipeline:\n",
      "Normalizer(norm='l1')\n",
      "\n",
      "\n",
      "Best classifier:\n",
      " KNeighborsClassifier(metric='euclidean', n_jobs=1, n_neighbors=2)\n",
      "\n",
      "\n",
      "Prediction accuracy in generalization is 97.8%\n"
     ]
    },
    {
     "data": {
      "image/png": "[encoded data removed]",
      "text/plain": [
       "<Figure size 432x288 with 2 Axes>"
      ]
     },
     "metadata": {
      "needs_background": "light"
     },
     "output_type": "display_data"
    }
   ],
   "source": [
    "\n",
    "from azureml.core import Experiment, Run, Model, Dataset\n",
    "import os\n",
    "os.environ['OMP_NUM_THREADS'] = '1'\n",
    "\n",
    "from sklearn.model_selection import train_test_split\n",
    "from sklearn.datasets import load_iris\n",
    "import hpsklearn\n",
    "import hpsklearn.demo_support\n",
    "import hyperopt.tpe\n",
    "import pandas as pd\n",
    "import numpy as np\n",
    "import time\n",
    "import numpy as np\n",
    "import matplotlib.pyplot as plt\n",
    "from IPython import display\n",
    "\n",
    "\n",
    "directory = 'outputs'\n",
    "if not os.path.exists(directory):\n",
    "    os.mkdir(directory)\n",
    "        \n",
    "def scatter_error_vs_time(estimator, ax):\n",
    "    losses = estimator.trials.losses()\n",
    "    ax.set_ylabel('Validation error rate')\n",
    "    ax.set_xlabel('Iteration')\n",
    "    ax.scatter(list(range(len(losses))), losses)\n",
    "\n",
    "\n",
    "def plot_minvalid_vs_time(estimator, ax, ylim=None):\n",
    "    losses = estimator.trials.losses()\n",
    "    ts = list(range(1, len(losses)))\n",
    "    mins = [np.min(losses[:ii]) for ii in ts]\n",
    "    ax.set_ylabel('min(Validation error rate to-date)')\n",
    "    ax.set_xlabel('Iteration')\n",
    "    if ylim:\n",
    "        ax.set_ylim(*ylim)\n",
    "    ax.plot(ts, mins)\n",
    "\n",
    "\n",
    "class MyplotHelper(object):\n",
    "\n",
    "    def __init__(self, estimator, mintodate_ylim):\n",
    "        self.estimator = estimator\n",
    "        self.fig, self.axs = plt.subplots(1, 2)\n",
    "        self.post_iter_wait = .5\n",
    "        self.mintodate_ylim = mintodate_ylim\n",
    "\n",
    "    def post_iter(self):\n",
    "        self.axs[0].clear()\n",
    "        self.axs[1].clear()\n",
    "        scatter_error_vs_time(self.estimator, self.axs[0])\n",
    "        plot_minvalid_vs_time(self.estimator, self.axs[1],\n",
    "                              ylim=self.mintodate_ylim)\n",
    "        display.clear_output()\n",
    "        print('saving image')\n",
    "        self.fig.savefig('./outputs/output.png')\n",
    "        #display.display(self.fig)\n",
    "        time.sleep(self.post_iter_wait)\n",
    "\n",
    "    def post_loop(self):\n",
    "        self.fig.savefig('./outputs/outputfinal.png')\n",
    "        display.clear_output()\n",
    "\n",
    "experiment = Experiment(workspace=ws, name='tester')\n",
    "run = experiment.start_logging()\n",
    "\n",
    "print('creating estimator')\n",
    "estimator = hpsklearn.HyperoptEstimator(\n",
    "    preprocessing=hpsklearn.components.any_preprocessing('pp'),\n",
    "    classifier=hpsklearn.components.any_classifier('clf'),\n",
    "    algo=hyperopt.tpe.suggest,\n",
    "    trial_timeout=15.0, # seconds\n",
    "    max_evals=15,\n",
    "    )\n",
    "\n",
    "print('loading dataset')\n",
    "# PREPARE TRAINING AND TEST DATA\n",
    "iris = load_iris()\n",
    "df_iris = pd.DataFrame(iris.data, columns=iris.feature_names)\n",
    "df_iris['species_name'] = pd.Categorical.from_codes(iris.target, iris.target_names)\n",
    "y = df_iris['species_name']\n",
    "X = df_iris.drop(['species_name'], axis=1)\n",
    "\n",
    "# TRAIN AND TEST DATA\n",
    "X_train, X_test, y_train, y_test = train_test_split(X, y, test_size=0.3)\n",
    "\n",
    "# Demo version of estimator.fit()\n",
    "fit_iterator = estimator.fit_iter(X_train,y_train)\n",
    "fit_iterator.__next__()\n",
    "plot_helper = MyplotHelper(estimator,\n",
    "                                                mintodate_ylim=(-.01, .10))\n",
    "while len(estimator.trials.trials) < estimator.max_evals:\n",
    "    child = run.child_run()\n",
    "    child.log(name= 'max evals', value = estimator.max_evals)\n",
    "    child.log(name ='run', value = estimator.max_evals)\n",
    "    fit_iterator.send(1) # -- try one more model\n",
    "    \n",
    "    losses = estimator.trials.losses()\n",
    "    index = len(losses)\n",
    "    \n",
    "    child.log(name= 'index', value = index)\n",
    "    \n",
    "    plot_helper.post_iter()\n",
    "\n",
    "    \n",
    "    child.upload_file(name = './outputs/output.png', path_or_stream = './outputs/output.png')\n",
    "    child.complete()\n",
    "    \n",
    "plot_helper.post_loop()\n",
    "\n",
    "# -- Model selection was done on a subset of the training data.\n",
    "# -- Now that we've picked a model, train on all training data.\n",
    "estimator.retrain_best_model_on_full_data(X_train, y_train)\n",
    "\n",
    "print('Best preprocessing pipeline:')\n",
    "for pp in estimator._best_preprocs:\n",
    "    print(pp)\n",
    "    run.log(name = 'best prepossing', value = pp)\n",
    "print('\\n')\n",
    "print('Best classifier:\\n', estimator._best_learner)\n",
    "\n",
    "run.log(name = 'best classifer', value = estimator._best_learner)\n",
    "test_predictions = estimator.predict(X_test)\n",
    "acc_in_percent = 100 * np.mean(test_predictions == y_test)\n",
    "print('\\n')\n",
    "print('Prediction accuracy in generalization is %.1f%%' % acc_in_percent)\n",
    "run.log(name = 'accuracy', value = acc_in_percent)\n",
    "\n",
    "run.complete()"
   ]
  },
  {
   "cell_type": "code",
   "execution_count": null,
   "id": "ac66f7ec",
   "metadata": {},
   "outputs": [],
   "source": []
  }
 ],
 "metadata": {
  "kernel_info": {
   "name": "python3-azureml"
  },
  "kernelspec": {
   "display_name": "Python 3.6 - AzureML",
   "language": "python",
   "name": "python3-azureml"
  },
  "language_info": {
   "codemirror_mode": {
    "name": "ipython",
    "version": 3
   },
   "file_extension": ".py",
   "mimetype": "text/x-python",
   "name": "python",
   "nbconvert_exporter": "python",
   "pygments_lexer": "ipython3",
   "version": "3.6.9"
  },
  "nteract": {
   "version": "nteract-front-end@1.0.0"
  }
 },
 "nbformat": 4,
 "nbformat_minor": 5
}
